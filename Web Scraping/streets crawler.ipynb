{
 "cells": [
  {
   "cell_type": "code",
   "execution_count": 1,
   "id": "b9731573",
   "metadata": {},
   "outputs": [],
   "source": [
    "from selenium import webdriver\n",
    "from selenium.webdriver.common.keys import Keys\n",
    "from selenium.webdriver.common.by import By\n",
    "from selenium.webdriver.support.ui import WebDriverWait\n",
    "from selenium.webdriver.support import expected_conditions as EC\n",
    "import time\n",
    "from functools import reduce\n",
    "import warnings\n",
    "warnings.filterwarnings('ignore')\n",
    "import pandas as pd\n",
    "import numpy as np"
   ]
  },
  {
   "cell_type": "code",
   "execution_count": 2,
   "id": "f361be80",
   "metadata": {},
   "outputs": [],
   "source": [
    "driver = webdriver.Firefox(executable_path='C:\\Program Files (x86)\\geckodriver.exe')\n",
    "driver.get(\"https://geographic.org/streetview/usa/ga/index.html\")"
   ]
  },
  {
   "cell_type": "code",
   "execution_count": 3,
   "id": "eb16c39b",
   "metadata": {},
   "outputs": [],
   "source": [
    "def page_loaded():\n",
    "    main = WebDriverWait(driver, 10).until(EC.presence_of_element_located((By.TAG_NAME, \"body\")))"
   ]
  },
  {
   "cell_type": "code",
   "execution_count": 4,
   "id": "d4c46e00",
   "metadata": {},
   "outputs": [],
   "source": [
    "def hit_escape():\n",
    "    try:\n",
    "        page_loaded()\n",
    "        driver.find_element_by_tag_name('body').send_keys(Keys.ESCAPE)\n",
    "    except:\n",
    "        driver.quit()"
   ]
  },
  {
   "cell_type": "code",
   "execution_count": 5,
   "id": "df22687a",
   "metadata": {},
   "outputs": [],
   "source": [
    "def load_delay():\n",
    "    try:\n",
    "        page_loaded()\n",
    "        \n",
    "    except:\n",
    "        driver.quit()\n",
    "        \n",
    "    time.sleep(1)"
   ]
  },
  {
   "cell_type": "code",
   "execution_count": 6,
   "id": "57834842",
   "metadata": {},
   "outputs": [],
   "source": [
    "def back_arrow():\n",
    "    try:\n",
    "        page_loaded()\n",
    "        driver.back()\n",
    "        hit_escape()\n",
    "    except:\n",
    "        pass\n",
    "        #driver.quit()"
   ]
  },
  {
   "cell_type": "code",
   "execution_count": 7,
   "id": "f9179bbe",
   "metadata": {},
   "outputs": [],
   "source": [
    "def click_a_link(current_link):\n",
    "    try:\n",
    "        page_loaded()\n",
    "        current_link.click()\n",
    "        hit_escape()\n",
    "    except:\n",
    "        driver.quit()"
   ]
  },
  {
   "cell_type": "code",
   "execution_count": 8,
   "id": "e3b4da5b",
   "metadata": {},
   "outputs": [],
   "source": [
    "def crawl_town(link):\n",
    "    \n",
    "    click_a_link(link)\n",
    "    \n",
    "    load_delay()\n",
    "    local_streets = [(element.text, county) for element in driver.find_elements_by_xpath\n",
    "                         (\"//li/a[contains(@href,'place=')]\")]\n",
    "    back_arrow()\n",
    "    return (local_streets)"
   ]
  },
  {
   "cell_type": "code",
   "execution_count": 9,
   "id": "afaa828d",
   "metadata": {},
   "outputs": [],
   "source": [
    "def crawl_county(link):\n",
    "    \n",
    "    click_a_link(link)\n",
    "    \n",
    "    load_delay()\n",
    "    no_of_towns = len(driver.find_elements_by_xpath(\"//li/a[contains(@href,'.html')]\"))\n",
    "    \n",
    "    town_streets = reduce(lambda a,b: a + crawl_town(driver.find_elements_by_xpath(\"//li/a[contains(@href,'.html')]\")[b]),\n",
    "                          range(no_of_towns), [])\n",
    "    \n",
    "    \n",
    "    back_arrow()\n",
    "    return town_streets       "
   ]
  },
  {
   "cell_type": "code",
   "execution_count": 10,
   "id": "dafe0a6c",
   "metadata": {},
   "outputs": [],
   "source": [
    "county_links = driver.find_elements_by_xpath(\"//li/a[contains(@href,'index.html')]\")\n",
    "number_of_counties = len(county_links)"
   ]
  },
  {
   "cell_type": "code",
   "execution_count": 11,
   "id": "e7481b3c",
   "metadata": {},
   "outputs": [],
   "source": [
    "streets = []\n",
    "for i in range(number_of_counties):\n",
    "    county_link = driver.find_elements_by_xpath(\"//li/a[contains(@href,'index.html')]\")[i]\n",
    "    county = county_link.text\n",
    "    streets = streets + crawl_county(county_link)"
   ]
  },
  {
   "cell_type": "code",
   "execution_count": 12,
   "id": "5e45bbf2",
   "metadata": {},
   "outputs": [],
   "source": [
    "pd.DataFrame(streets, columns = ['street', 'county']).to_csv('Georgia streets.csv')"
   ]
  },
  {
   "cell_type": "code",
   "execution_count": 13,
   "id": "169701c8",
   "metadata": {},
   "outputs": [
    {
     "data": {
      "text/html": [
       "<style  type=\"text/css\" >\n",
       "</style><table id=\"T_e7d67_\" ><thead>    <tr>        <th class=\"col_heading level0 col0\" >street</th>        <th class=\"col_heading level0 col1\" >county</th>    </tr></thead><tbody>\n",
       "                <tr>\n",
       "                                <td id=\"T_e7d67_row0_col0\" class=\"data row0 col0\" >1st Street</td>\n",
       "                        <td id=\"T_e7d67_row0_col1\" class=\"data row0 col1\" >Appling</td>\n",
       "            </tr>\n",
       "            <tr>\n",
       "                                <td id=\"T_e7d67_row1_col0\" class=\"data row1 col0\" >2nd Street</td>\n",
       "                        <td id=\"T_e7d67_row1_col1\" class=\"data row1 col1\" >Appling</td>\n",
       "            </tr>\n",
       "            <tr>\n",
       "                                <td id=\"T_e7d67_row2_col0\" class=\"data row2 col0\" >A P Hunter Road</td>\n",
       "                        <td id=\"T_e7d67_row2_col1\" class=\"data row2 col1\" >Appling</td>\n",
       "            </tr>\n",
       "            <tr>\n",
       "                                <td id=\"T_e7d67_row3_col0\" class=\"data row3 col0\" >Acorn Lane</td>\n",
       "                        <td id=\"T_e7d67_row3_col1\" class=\"data row3 col1\" >Appling</td>\n",
       "            </tr>\n",
       "            <tr>\n",
       "                                <td id=\"T_e7d67_row4_col0\" class=\"data row4 col0\" >Addie Lane</td>\n",
       "                        <td id=\"T_e7d67_row4_col1\" class=\"data row4 col1\" >Appling</td>\n",
       "            </tr>\n",
       "    </tbody></table>"
      ],
      "text/plain": [
       "<pandas.io.formats.style.Styler at 0x211684ef3d0>"
      ]
     },
     "execution_count": 13,
     "metadata": {},
     "output_type": "execute_result"
    }
   ],
   "source": [
    "pd.DataFrame(streets, columns = ['street', 'county']).head().style.hide_index()"
   ]
  },
  {
   "cell_type": "code",
   "execution_count": 14,
   "id": "ea726a7e",
   "metadata": {},
   "outputs": [
    {
     "data": {
      "text/html": [
       "<div>\n",
       "<style scoped>\n",
       "    .dataframe tbody tr th:only-of-type {\n",
       "        vertical-align: middle;\n",
       "    }\n",
       "\n",
       "    .dataframe tbody tr th {\n",
       "        vertical-align: top;\n",
       "    }\n",
       "\n",
       "    .dataframe thead th {\n",
       "        text-align: right;\n",
       "    }\n",
       "</style>\n",
       "<table border=\"1\" class=\"dataframe\">\n",
       "  <thead>\n",
       "    <tr style=\"text-align: right;\">\n",
       "      <th></th>\n",
       "      <th>street</th>\n",
       "      <th>county</th>\n",
       "    </tr>\n",
       "  </thead>\n",
       "  <tbody>\n",
       "    <tr>\n",
       "      <th>2365</th>\n",
       "      <td>Water Street Circle</td>\n",
       "      <td>Baker</td>\n",
       "    </tr>\n",
       "    <tr>\n",
       "      <th>2366</th>\n",
       "      <td>Water Street, North</td>\n",
       "      <td>Baker</td>\n",
       "    </tr>\n",
       "    <tr>\n",
       "      <th>2367</th>\n",
       "      <td>William Irvin Road</td>\n",
       "      <td>Baker</td>\n",
       "    </tr>\n",
       "    <tr>\n",
       "      <th>2368</th>\n",
       "      <td>Williams Road</td>\n",
       "      <td>Baker</td>\n",
       "    </tr>\n",
       "    <tr>\n",
       "      <th>2369</th>\n",
       "      <td>Willow Nook Road</td>\n",
       "      <td>Baker</td>\n",
       "    </tr>\n",
       "  </tbody>\n",
       "</table>\n",
       "</div>"
      ],
      "text/plain": [
       "                   street county\n",
       "2365  Water Street Circle  Baker\n",
       "2366  Water Street, North  Baker\n",
       "2367   William Irvin Road  Baker\n",
       "2368        Williams Road  Baker\n",
       "2369     Willow Nook Road  Baker"
      ]
     },
     "execution_count": 14,
     "metadata": {},
     "output_type": "execute_result"
    }
   ],
   "source": [
    "pd.DataFrame(streets, columns = ['street', 'county']).tail()"
   ]
  }
 ],
 "metadata": {
  "kernelspec": {
   "display_name": "Python 3",
   "language": "python",
   "name": "python3"
  },
  "language_info": {
   "codemirror_mode": {
    "name": "ipython",
    "version": 3
   },
   "file_extension": ".py",
   "mimetype": "text/x-python",
   "name": "python",
   "nbconvert_exporter": "python",
   "pygments_lexer": "ipython3",
   "version": "3.8.8"
  }
 },
 "nbformat": 4,
 "nbformat_minor": 5
}
