{
 "cells": [
  {
   "cell_type": "markdown",
   "id": "9eb1e2a2",
   "metadata": {},
   "source": [
    "Web scraping:  A list of 2022 model-year Chevrolets courtesy of Day's Chevrolet in Acworth, GA, USA."
   ]
  },
  {
   "cell_type": "code",
   "execution_count": 7,
   "id": "2e169a7d",
   "metadata": {},
   "outputs": [],
   "source": [
    "import scrapy\n",
    "from scrapy.crawler import CrawlerRunner\n",
    "from crochet import setup, wait_for\n",
    "from functools import reduce\n",
    "setup()"
   ]
  },
  {
   "cell_type": "code",
   "execution_count": 8,
   "id": "f03f75e0",
   "metadata": {},
   "outputs": [],
   "source": [
    "class ChevyScraper(scrapy.Spider):\n",
    "    name = \"ChevyScraper\"\n",
    "    car_models = []\n",
    "    def start_requests(self):\n",
    "        urls = [\"https://www.dayschevrolet.com/VehicleSearchResults?search=new\"]\n",
    "        for url in urls:\n",
    "            yield scrapy.Request(url=url, callback=self.make_list)\n",
    "\n",
    "    def make_list(self, response):\n",
    "        self.car_models.append(response.xpath('//li/@data-model').extract())"
   ]
  },
  {
   "cell_type": "code",
   "execution_count": 9,
   "id": "fbd70a3b",
   "metadata": {},
   "outputs": [],
   "source": [
    "@wait_for(10)\n",
    "def run_spider():\n",
    "    \"\"\"run ChevyScraper\"\"\"\n",
    "    crawler = CrawlerRunner()\n",
    "    d = crawler.crawl(ChevyScraper)\n",
    "    return d"
   ]
  },
  {
   "cell_type": "code",
   "execution_count": 10,
   "id": "4d58802c",
   "metadata": {},
   "outputs": [],
   "source": [
    "run_spider()"
   ]
  },
  {
   "cell_type": "code",
   "execution_count": 11,
   "id": "074bef78",
   "metadata": {},
   "outputs": [],
   "source": [
    "car_models_unique = list(set(ChevyScraper.car_models[0]))\n",
    "car_models_unique.sort()"
   ]
  },
  {
   "cell_type": "code",
   "execution_count": 12,
   "id": "50a4a973",
   "metadata": {},
   "outputs": [
    {
     "name": "stdout",
     "output_type": "stream",
     "text": [
      "1500\n",
      "1500 Classic\n",
      "2500\n",
      "300\n",
      "A3 Sedan\n",
      "Acadia\n",
      "Altima\n",
      "Armada\n",
      "Blazer\n",
      "C-Class\n",
      "CR-V\n",
      "Camaro\n",
      "Camry\n",
      "Cherokee\n",
      "Colorado\n",
      "Corvette\n",
      "E-Series Cutaway\n",
      "Enclave\n",
      "Encore\n",
      "Equinox\n",
      "Expedition\n",
      "Expedition Max\n",
      "Explorer\n",
      "Express Cargo Van\n",
      "F-150\n",
      "GX 460\n",
      "Gladiator\n",
      "Grand Cherokee\n",
      "Legacy\n",
      "Murano\n",
      "NX 300\n",
      "Optima\n",
      "Pathfinder\n",
      "Pilot\n",
      "ProMaster City Cargo Van\n",
      "RDX\n",
      "Santa Fe\n",
      "Savana Cargo Van\n",
      "Sequoia\n",
      "Sierra 1500\n",
      "Sierra 2500HD\n",
      "Silverado 1500\n",
      "Silverado 1500 LTD\n",
      "Silverado 2500HD\n",
      "Sonata\n",
      "Sportage\n",
      "Suburban\n",
      "Tahoe\n",
      "Telluride\n",
      "Terrain\n",
      "Titan XD\n",
      "Transit Van\n",
      "Traverse\n",
      "Veloster\n",
      "Versa Sedan\n",
      "WRX\n",
      "Wrangler Unlimited\n",
      "Yukon\n"
     ]
    }
   ],
   "source": [
    "reduce(lambda a,b: print(b), car_models_unique, '')"
   ]
  },
  {
   "cell_type": "code",
   "execution_count": null,
   "id": "0e6d40d4",
   "metadata": {},
   "outputs": [],
   "source": []
  }
 ],
 "metadata": {
  "kernelspec": {
   "display_name": "Python 3",
   "language": "python",
   "name": "python3"
  },
  "language_info": {
   "codemirror_mode": {
    "name": "ipython",
    "version": 3
   },
   "file_extension": ".py",
   "mimetype": "text/x-python",
   "name": "python",
   "nbconvert_exporter": "python",
   "pygments_lexer": "ipython3",
   "version": "3.8.8"
  }
 },
 "nbformat": 4,
 "nbformat_minor": 5
}
